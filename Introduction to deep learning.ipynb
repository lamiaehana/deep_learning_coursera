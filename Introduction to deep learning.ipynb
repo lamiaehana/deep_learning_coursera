{
 "cells": [
  {
   "cell_type": "markdown",
   "metadata": {},
   "source": [
    "## Neural network and deep learning\n",
    "If you want to break into cutting-edge AI, this course will help you do so. Deep learning engineers are highly sought after, and mastering deep learning will give you numerous new career opportunities. Deep learning is also a new \"superpower\" that will let you build AI systems that just weren't possible a few years ago. In this course, you will learn the foundations of deep learning. When you finish this class, you will:\n",
    "\n",
    "- Understand the major technology trends driving Deep Learning\n",
    "- Be able to build, train and apply fully connected deep neural networks\n",
    "- Know how to implement efficient (vectorized) neural networks\n",
    "- Understand the key parameters in a neural network's architecture This course also teaches you how Deep Learning actually works, rather than presenting only a cursory or surface-level description.\n",
    "\n",
    "So after completing it, you will be able to apply deep learning to a your own applications. If you are looking for a job in AI, after this course you will also be able to answer basic interview questions. This is the first course of the Deep Learning Specialization."
   ]
  },
  {
   "cell_type": "markdown",
   "metadata": {},
   "source": [
    "## Chapter 1: Introduction to deep learning\n",
    "\n",
    "### <font color=\"red\"> What is a neural network? </font>"
   ]
  },
  {
   "cell_type": "markdown",
   "metadata": {},
   "source": [
    "Neural networks are a set of algorithms, modeled loosely after the human brain, that are designed to recognize patterns. They interpret sensory data through a kind of machine perception, labeling or clustering raw input. The patterns they recognize are numerical, contained in vectors, into which all real-world data, be it images, sound, text or time series, must be translated.\n",
    "\n",
    "Neural networks **help us cluster and classify**. You can think of them as a clustering and classification layer on top of the data you store and manage. They help to group **unlabeled data** according to **similarities among the example inputs**, and they classify data when they have a **labeled dataset** to train on. (Neural networks can also extract features that are fed to other algorithms for clustering and classification; **so you can think of deep neural networks as components of larger machine-learning applications involving algorithms for reinforcement learning, classification and regression**.)\n",
    "\n",
    "#### <u><font color=\"green\">Example 1 – single neural network</font> </u>\n",
    "Given data about the size of houses on the real estate market and you want to fit a function that will predict their price. It is a linear regression problem because the price as a function of size is a continuous output.\n",
    "\n",
    "We know the prices can never be negative so we are creating a function called Rectified Linear Unit (ReLU) which starts at zero.\n",
    "\n",
    "<img src=\"cap1.png\"  height=\"500\" width=\"500\">"
   ]
  },
  {
   "cell_type": "markdown",
   "metadata": {},
   "source": [
    "#### <u><font color=\"green\">Example 2 – Multiple neural network </font> </u>\n",
    "\n",
    "The price of a house can be affected by other features such as size, number of bedrooms, zip code and wealth. The role of the neural network is to predicted the price and it will automatically generate the hidden units. We only need to give the inputs x and the output y.\n",
    "\n",
    "<img src=\"cap2.png\"  height=\"300\" width=\"300\">\n"
   ]
  },
  {
   "cell_type": "markdown",
   "metadata": {},
   "source": [
    "### <font color=\"red\">Supervised Learning with Neural Networks</font>"
   ]
  },
  {
   "cell_type": "markdown",
   "metadata": {},
   "source": [
    "You may have heard the term **“supervised learning”**. It is a way to make an algorithm learn something, but it’s not the algorithm, exactly.\n",
    "\n",
    "In a supervised learning scenario, you have input data that has been **labeled**, like you might scribble a name on the back of a photograph so that future generations can identify your great aunt.\n",
    "\n",
    "Imagine your algorithm is taking a test. The labels are the correct answers to the test (the name of the person), and the input data (the photographs) is the set of questions.\n",
    "\n",
    "The input data is what you want to make predictions about, and the labels are those precise predictions, attached to each relevant instance of the input.\n",
    "\n",
    "Supervised learning problems are categorized into **\"regression\"** and **\"classification\"** problems. In a <u>regression problem</u>, we are trying to predict results within a **continuous output**, meaning that we are trying to map input variables to some continuous function. In a <u>classification</u> problem, we are instead trying to predict results in a **discrete output**. In other words, we are trying to map input variables into discrete categories.\n",
    "\n",
    "Here are some examples of input-label pairs and what we would call this use case:\n",
    "<ul>\n",
    "    <li>Photo - Name of object in photo (e.g. face - name) - object recognition</li>\n",
    "    <li>Transaction - “fraud” or “not_fraud” - fraud detection</li>\n",
    "    <li>Text - “angry” or “content” - sentiment analysis</li>\n",
    "    <li>Sound file - name of person speaking - voice recognition</li>\n",
    "</ul>\n",
    "\n",
    "There are different types of neural network, for example **Convolution Neural Network (CNN)** used often for <u>image application</u> and **Recurrent Neural Network (RNN)** used for <u>one-dimensional sequence data</u> such as translating English to Chinses or a temporal component such as text transcript. As for the <u>autonomous driving</u>, it is a **hybrid neural network architecture**."
   ]
  },
  {
   "cell_type": "markdown",
   "metadata": {},
   "source": [
    "#### <u><font color=\"blue\">Structured vs unstructured data </font> </u>\n",
    "\n",
    "**Structured data** refers to things that has a **defined meaning** such as price, age whereas **unstructured data** refers to thing **like pixel, raw audio, text**.\n",
    "\n",
    "<img src=\"cap3.png\"  height=\"500\" width=\"500\">"
   ]
  },
  {
   "cell_type": "markdown",
   "metadata": {},
   "source": [
    "### <font color=\"red\">Why is deep learning taking off?</font>\n",
    "\n",
    "Deep learning is taking off due to a large amount of data available through the digitization of the society, faster computation and innovation in the development of neural network algorithm.\n",
    "\n",
    "<img src=\"cap4.png\"  height=\"500\" width=\"500\">\n",
    "\n",
    "Two things have to be considered to get to the high level of performance:\n",
    "1. Being able to train a big enough neural network\n",
    "2. Huge amount of labeled data\n",
    "\n",
    "The process of training a neural network is iterative, It could take a good amount of time to train a neural network, which affects your productivity. Faster computation helps to iterate and improve new algorithm.\n",
    "\n",
    "<img src=\"cap5.png\"  height=\"300\" width=\"300\">"
   ]
  },
  {
   "cell_type": "markdown",
   "metadata": {},
   "source": [
    "## Chapter 2: Logistic Regression as Neural Network\n",
    "### <font color=\"red\"> Binary classification </font>\n",
    "\n",
    "In a binary classification problem, the result is a discrete value output. \n",
    "For example :\n",
    "- account hacked (1) or compromised (0)\n",
    "- a tumor malign (1) or benign (0)\n",
    "\n",
    "#### <u><font color=\"green\">Example: Cat vs Non-Cat </font> </u>\n",
    "\n",
    "The goal is to train a classifier that the input is an image represented by a feature vector, 𝑥, and predicts whether the corresponding label 𝑦 is 1 or 0. In this case, whether this is a cat image (1) or a non-cat image.\n",
    "\n",
    "<img src=\"cap6.png\"  height=\"500\" width=\"500\">\n",
    "\n",
    "An image is store in the computer in three separate matrices corresponding to the **Red**, **Green**, and **Blue** color channels of the image. The three matrices have the same size as the image, for example, the resolution of the cat image is 64 pixels X 64 pixels, the three matrices (RGB) are 64 X 64 each. \n",
    "\n",
    "The value in a cell represents the pixel intensity which will be used to create a feature vector of ndimension. In pattern recognition and machine learning, a feature vector represents an object, in this case, a cat or no cat.\n",
    "\n",
    "To create a feature vector, 𝑥, the pixel intensity values will be “unroll” or **“reshape”** for each color. The dimension of the input feature vector 𝑥 is 𝑛𝑥 = 64 𝑥 64 𝑥 3 = 12 288.\n",
    "\n",
    "<img src=\"cap7.png\"  height=\"150\" width=\"150\">"
   ]
  },
  {
   "cell_type": "code",
   "execution_count": null,
   "metadata": {},
   "outputs": [],
   "source": []
  },
  {
   "cell_type": "code",
   "execution_count": null,
   "metadata": {},
   "outputs": [],
   "source": []
  }
 ],
 "metadata": {
  "kernelspec": {
   "display_name": "Python 3",
   "language": "python",
   "name": "python3"
  },
  "language_info": {
   "codemirror_mode": {
    "name": "ipython",
    "version": 3
   },
   "file_extension": ".py",
   "mimetype": "text/x-python",
   "name": "python",
   "nbconvert_exporter": "python",
   "pygments_lexer": "ipython3",
   "version": "3.7.3"
  }
 },
 "nbformat": 4,
 "nbformat_minor": 2
}
