{
 "cells": [
  {
   "cell_type": "markdown",
   "metadata": {},
   "source": [
    "# <font color='red'> Chapter I </font>\n",
    "In this chapter we found a generality about Machine learning, why we use it, types and challenges.\n",
    "\n",
    "## What Is Machine Learning?\n",
    " **Définition**:\n",
    "Machine Learning is about building systems that can learn from data. Learning\n",
    "means getting better at some task, given some performance measure.\n",
    "\n",
    "## Why Use Machine Learning?\n",
    "Problems for which existing solutions require a lot of hand-tuning or long lists of\n",
    "rules: one Machine Learning algorithm can often simplify code and perform better.\n",
    "\n",
    "<ul>\n",
    "    <li> Complex problems for which there is no good solution at all using a traditional </li>\n",
    "    <li> approach: the best Machine Learning techniques can find a solution. </li>\n",
    "    <li> Fluctuating environments: a Machine Learning system can adapt to new data. </li>\n",
    "    <li> Getting insights about complex problems and large amounts of data. </li>\n",
    "</ul>\n",
    "    \n",
    "## Types of machine learning systems\n",
    "There are so many different types of Machine Learning systems that it is useful to\n",
    "classify them in broad categories based on:\n",
    "\n",
    "<ul>\n",
    "    <li> Whether or not they are trained with human supervision (supervised, unsupervised, semisupervised, and Reinforcement Learning) </li>\n",
    "    <li> Whether or not they can learn incrementally on the fly (online versus batch learning) </li>\n",
    "    <li> Whether they work by simply comparing new data points to known data points, or instead detect patterns in the training data and build a predictive model, much like scientists do (instance-based versus model-based learning) </li>\n",
    "</ul>\n",
    "\n",
    "## Supervised/Unsupervised Learning\n",
    "Machine Learning systems can be classified according to the amount and type of\n",
    "supervision they get during training. There are four major categories: supervised\n",
    "learning, unsupervised learning, semisupervised learning, and Reinforcement Learning.\n",
    "\n",
    "### <font color='darkblue'>Supervised learning</font>\n",
    "In supervised learning, the training data you feed to the algorithm includes the desired\n",
    "solutions, called labels.\n",
    "\n",
    "A typical supervised learning task is **classification**,The spam filter is a good example of this: it is trained with many example emails along with their class (spam or ham), and it must learn how to classify new emails.\n",
    "\n",
    "Another typical task is to **predict** a target numeric value, such as the price of a car, given a set of features (mileage, age, brand, etc.) called predictors. This sort of task is called **regression** To train the system, you need to give it many examples of cars, including both their predictors and their labels (i.e., their prices).\n",
    "\n",
    "Here are some of the most important supervised learning algorithms:\n",
    "<ul>\n",
    "<li> k-Nearest Neighbors </li>\n",
    "<li> Linear Regression </li>\n",
    "<li> Logistic Regression </li>\n",
    "<li> Support Vector Machines (SVMs) </li>\n",
    "<li> Decision Trees and Random Forests </li>\n",
    "<li> Neural networks </li>\n",
    "</ul>"
   ]
  },
  {
   "cell_type": "markdown",
   "metadata": {},
   "source": [
    "### <font color='darkblue'>Unsupervised learning</font> \n",
    "In unsupervised learning, as you might guess, the training **data is unlabeled**. The system tries to learn without a teacher.\n",
    "\n",
    "Here are some of the most important unsupervised learning algorithms:\n",
    "#### <font color='green'> Clustering </font>\n",
    "<ul>\n",
    "    <li>k-Means</li>\n",
    "    <li>Hierarchical Cluster Analysis (HCA)</li>\n",
    "    <li>Expectation Maximization</li>\n",
    "    </ul>"
   ]
  },
  {
   "cell_type": "markdown",
   "metadata": {
    "collapsed": true
   },
   "source": [
    "#### <font color='green'> Visualization and dimensionality reduction </font>\n",
    "<ul>\n",
    "    <li>Principal Component Analysis (PCA)</li>\n",
    "    <li>Kernel PCA </li>\n",
    "    <li>Locally-Linear Embedding (LLE) </li>\n",
    "    <li>t-distributed Stochastic Neighbor Embedding (t-SNE) </li>\n",
    "</ul> \n"
   ]
  },
  {
   "cell_type": "markdown",
   "metadata": {},
   "source": [
    "#### <font color='green'> Association rule learning </font>\n",
    "<ul>\n",
    "    <li> Apriori </li>\n",
    "    <li> Eclat </li>\n",
    "</ul>"
   ]
  },
  {
   "cell_type": "markdown",
   "metadata": {},
   "source": [
    "### <font color='darkblue'>Semisupervised learning</font> \n",
    "\n",
    "Some algorithms can deal with **partially labeled training data**, usually a lot of unlabeled data and a little bit of labeled data. This is called semisupervised learning\n",
    "\n",
    "Most semisupervised learning algorithms are **combinations of unsupervised and supervised algorithms**. For example, deep belief networks **(DBNs)** are based on unsupervised components called restricted Boltzmann machines **(RBMs)** stacked on top of\n",
    "one another. RBMs are trained sequentially in an unsupervised manner, and then the whole system is fine-tuned using supervised learning techniques."
   ]
  },
  {
   "cell_type": "markdown",
   "metadata": {},
   "source": [
    "### <font color='darkblue'> Reinforcement Learning </font>\n",
    "\n",
    "Reinforcement Learning is a very different beast. The learning system, called an **agent** in this context, can observe the environment, select and perform actions, and get **rewards** in return (or **penalties** in the form of negative rewards, as in ). It must then **learn by itself** what is the best strategy, called a **policy**, to get the most reward over time. A policy defines what action the agent should choose when it is in a given situation."
   ]
  },
  {
   "cell_type": "markdown",
   "metadata": {},
   "source": [
    "## Batch and Online Learning\n",
    "\n",
    "Another criterion used to classify Machine Learning systems is whether or not the system can learn incrementally from a stream of incoming data.\n",
    "\n",
    "### <font color='darkblue'> Batch learning </font>\n",
    "\n",
    "In batch learning, the system is incapable of learning incrementally: **it must be trained using all the available data**. This will generally take a lot of time and computing resources, so it is typically done **offline**. First **the system is trained**, and then it is launched into **production and runs without learning anymore**; it just applies what it has learned. This is called **offline learning**.\n",
    "\n",
    "### <font color='darkblue'>  Online learning </font>\n",
    "In online learning, you train the system incrementally by feeding it data instances s**equentially**, either **individually or by small groups** called mini-batches. Each learning step is fast and cheap, so the system can learn about new data on the fly, as it arrives.Online learning is great for systems that receive data as a continuous flow.\n"
   ]
  },
  {
   "cell_type": "markdown",
   "metadata": {
    "collapsed": true
   },
   "source": [
    "## Instance-Based Versus Model-Based Learning\n",
    "One more way to categorize Machine Learning systems is by how they generalize.\n",
    "One more way to categorize Machine Learning systems is by how they generalize. Most Machine Learning tasks are about making predictions. This means that given a number of training examples, the system needs to be able to generalize to examples it\n",
    "has never seen before. Having a good performance measure on the training data is good, but insufficient; the true goal is to perform well on new instances. There are two main approaches to generalization: instance-based learning and model-based learning.\n",
    "\n",
    "### <font color='darkblue'> Instance-Based learning </font>\n",
    "the system learns the examples by heart, thengeneralizes to new cases using a similarity measure.\n",
    "\n",
    "### <font color='darkblue'> Model-Based Learning </font>\n",
    "Another way to generalize from a set of examples is to build a model of these examples, then use that model to make predictions. This is called model-based learning\n"
   ]
  },
  {
   "cell_type": "markdown",
   "metadata": {},
   "source": [
    "## Main Challenges of Machine Learning\n",
    "<font color='blue'> \n",
    "- Insufficient Quantity of Training Data \n",
    "- Nonrepresentative Training Data\n",
    "- Poor-Quality Data\n",
    "- Irrelevant Features \n",
    "- Overfitting the Training Data\n",
    "- Underfitting the Training Data"
   ]
  },
  {
   "cell_type": "markdown",
   "metadata": {},
   "source": [
    "## Résumé\n",
    "\n",
    "- Machine Learning is about making machines get better at some task by learning from data, instead of having to explicitly code rules.\n",
    "- There are many different types of ML systems: supervised or not, batch or online, instance-based or model-based, and so on.\n",
    "- a learning algorithm. If the algorithm is model-based it tunes some parameters to fit the model to the training set (i.e., to make good predictions on the training set itself), and then hopefully it will be able to make good predictions on new cases as well. If the algorithm is instance-based, it just learns the examples by heart and uses a similarity measure to generalize to new instances.\n",
    "- The system will not perform well if your training set is too small, or if the data is not representative, noisy, or polluted with irrelevant features (garbage in, garbage out). Lastly, your model needs to be neither too simple (in which case it will underfit) nor too complex (in which case it will overfit)."
   ]
  },
  {
   "cell_type": "markdown",
   "metadata": {},
   "source": [
    "## Testing and Validating\n",
    "The only way to know how well a model will generalize to new cases is to actually try it out on new cases.\n",
    "A better option is to split your data into two sets: the training set and the test set. As these names imply, you train your model using the training set, and you test it using the test set. The error rate on new cases is called the generalization error (or out-ofsample error), and by evaluating your model on the test set, you get an estimation of this error. This value tells you how well your model will perform on instances it has never seen before.\n",
    "\n",
    "If the training error is low (i.e., your model makes few mistakes on the training set) but the generalization error is high, it means that your model is overfitting the training data."
   ]
  },
  {
   "cell_type": "markdown",
   "metadata": {},
   "source": [
    "## Exercises\n",
    "\n",
    "<font color='green'>  1. How would you define Machine Learning?</font></n>\n",
    "\n",
    "    - Machine Learning is about building systems that can learn from data. Learning means getting better at some task, given some performance measure.\n",
    "<font color='green'>  2. Can you name four types of problems where it shines? </font>\n",
    "    \n",
    "    - Machine Learning is great for complex problems for which we have no algorithmic solution, to replace long lists of hand-tuned rules, to build systems that adapt to fluctuating environments, and finally to help humans learn (e.g., data mining).\n",
    "<font color='green'> 3. What is a labeled training set?</font>\n",
    "\n",
    "    - A labeled training set is a training set that contains the desired solution (a.k.a. a label) for each instance.\n",
    "<font color='green'> 4. What are the two most common supervised tasks?</font>\n",
    "\n",
    "    - The two most common supervised tasks are regression and classification.\n",
    "<font color='green'> 5. Can you name four common unsupervised tasks?</font>\n",
    "\n",
    "    - Common unsupervised tasks include clustering, visualization, dimensionality reduction, and association rule learning.\n",
    "<font color='green'> 6. What type of Machine Learning algorithm would you use to allow a robot towalk in various unknown terrains?</font>\n",
    "\n",
    "    - Reinforcement Learning is likely to perform best if we want a robot to learn to walk in various unknown terrains since this is typically the type of problem that Reinforcement Learning tackles. It might be possible to express the problem as a supervised or semisupervised learning problem, but it would be less natural.\n",
    "<font color='green'> 7. What type of algorithm would you use to segment your customers into multiplegroups?</font>\n",
    "\n",
    "    - If you don’t know how to define the groups, then you can use a clustering algorithm (unsupervised learning) to segment your customers into clusters of similar customers. However, if you know what groups you would like to have, then you can feed many examples of each group to a classification algorithm (supervised learning), and it will classify all your customers into these groups.\n",
    "<font color='green'> 8. Would you frame the problem of spam detection as a supervised learning problem or an unsupervised learning problem?</font>\n",
    "\n",
    "    - Spam detection is a typical supervised learning problem: the algorithm is fed many emails along with their label (spam or not spam).\n",
    "<font color='green'> 9. What is an online learning system?</font>\n",
    "\n",
    "    - An online learning system can learn incrementally, as opposed to a batch learning system. This makes it capable of adapting rapidly to both changing data and autonomous systems, and of training on very large quantities of data.\n",
    "<font color='green'> 10. What is out-of-core learning?</font>\n",
    "\n",
    "    -Out-of-core algorithms can handle vast quantities of data that cannot fit in a computer’s main memory. An out-of-core learning algorithm chops the data into mini-batches and uses online learning techniques to learn from these minibatches.\n",
    "<font color='green'> 11. What type of learning algorithm relies on a similarity measure to make predictions?</font>\n",
    "\n",
    "    -An instance-based learning system learns the training data by heart; then, when given a new instance, it uses a similarity measure to find the most similar learned instances and uses them to make predictions.\n",
    "<font color='green'> 12. What is the difference between a model parameter and a learning algorithm’s hyperparameter?</font>\n",
    "\n",
    "    -A model has one or more model parameters that determine what it will predict given a new instance (e.g., the slope of a linear model). A learning algorithm tries to find optimal values for these parameters such that the model generalizes well to new instances. A hyperparameter is a parameter of the learning algorithm itself, not of the model (e.g., the amount of regularization to apply).\n",
    "<font color='green'> 13. What do model-based learning algorithms search for? What is the most common strategy they use to succeed? How do they make predictions?</font>\n",
    "\n",
    "    -parameters such that the model will generalize well to new instances. We usually train such systems by minimizing a cost function that measures how bad the system is at making predictions on the training data, plus a penalty for model complexity if the model is regularized. To make predictions, we feed the new instance’s features into the model’s prediction function, using the parameter values found by the learning algorithm.\n",
    "<font color='green'> 14. Can you name four of the main challenges in Machine Learning?</font>\n",
    "\n",
    "    -Some of the main challenges in Machine Learning are the lack of data, poor data quality, nonrepresentative data, uninformative features, excessively simple models that underfit the training data, and excessively complex models that overfit the data.\n",
    "<font color='green'> 15. If your model performs great on the training data but generalizes poorly to new instances, what is happening? Can you name three possible solutions?</font>\n",
    "\n",
    "    -If a model performs great on the training data but generalizes poorly to new instances, the model is likely overfitting the training data (or we got extremely lucky on the training data). Possible solutions to overfitting are getting more data, simplifying the model (selecting a simpler algorithm, reducing the number of parameters or features used, or regularizing the model), or reducing the noise in the training data.\n",
    "<font color='green'> 16. What is a test set and why would you want to use it?</font>\n",
    "\n",
    "    -A test set is used to estimate the generalization error that a model will make on new instances, before the model is launched in production.\n",
    "<font color='green'> 17. What is the purpose of a validation set?</font>\n",
    "\n",
    "    -A validation set is used to compare models. It makes it possible to select the best model and tune the hyperparameters.\n",
    "<font color='green'> 18. What can go wrong if you tune hyperparameters using the test set?</font>\n",
    "\n",
    "    -If you tune hyperparameters using the test set, you risk overfitting the test set, and the generalization error you measure will be optimistic (you may launch a model that performs worse than you expect).\n",
    "<font color='green'> 19. What is cross-validation and why would you prefer it to a validation set?</font>\n",
    "\n",
    "    -Cross-validation is a technique that makes it possible to compare models (for model selection and hyperparameter tuning) without the need for a separate validation set. This saves precious training data.\n"
   ]
  },
  {
   "cell_type": "code",
   "execution_count": null,
   "metadata": {},
   "outputs": [],
   "source": []
  }
 ],
 "metadata": {
  "kernelspec": {
   "display_name": "Python 3",
   "language": "python",
   "name": "python3"
  },
  "language_info": {
   "codemirror_mode": {
    "name": "ipython",
    "version": 3
   },
   "file_extension": ".py",
   "mimetype": "text/x-python",
   "name": "python",
   "nbconvert_exporter": "python",
   "pygments_lexer": "ipython3",
   "version": "3.7.3"
  }
 },
 "nbformat": 4,
 "nbformat_minor": 2
}
